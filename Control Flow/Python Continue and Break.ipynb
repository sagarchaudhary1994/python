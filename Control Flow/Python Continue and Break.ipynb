{
 "cells": [
  {
   "cell_type": "markdown",
   "metadata": {},
   "source": [
    "## Continue and Break"
   ]
  },
  {
   "cell_type": "markdown",
   "metadata": {},
   "source": [
    "### break"
   ]
  },
  {
   "cell_type": "code",
   "execution_count": 3,
   "metadata": {},
   "outputs": [
    {
     "name": "stdout",
     "output_type": "stream",
     "text": [
      "Current num => 1\n",
      "Current num => 5\n",
      "Current num => 7\n",
      "Current num => 8\n",
      "Even number found => 8\n",
      "Current num => 19\n",
      "Current num => 13\n",
      "Current num => 17\n",
      "Current num => 3\n"
     ]
    }
   ],
   "source": [
    "num_lst = [1,5,7,8,19,13,17,3]\n",
    "\n",
    "## find an even number in the list\n",
    "for num in num_lst:\n",
    "    print(f\"Current num => {num}\")\n",
    "    if(num%2==0):\n",
    "        print(f\"Even number found => {num}\")"
   ]
  },
  {
   "cell_type": "markdown",
   "metadata": {},
   "source": [
    "After finding the even number, loops ran for remaining 4 elements which is not needed, so we can use break to stop the execution of loop, once condition is satisfied"
   ]
  },
  {
   "cell_type": "code",
   "execution_count": 5,
   "metadata": {},
   "outputs": [
    {
     "name": "stdout",
     "output_type": "stream",
     "text": [
      "Current num => 1\n",
      "Current num => 5\n",
      "Current num => 7\n",
      "Current num => 8\n",
      "Even number found => 8\n"
     ]
    }
   ],
   "source": [
    "## use break\n",
    "for num in num_lst:\n",
    "    print(f\"Current num => {num}\")\n",
    "    if(num%2==0):\n",
    "        print(f\"Even number found => {num}\")\n",
    "        break"
   ]
  },
  {
   "cell_type": "markdown",
   "metadata": {},
   "source": [
    "### continue"
   ]
  },
  {
   "cell_type": "code",
   "execution_count": 7,
   "metadata": {},
   "outputs": [
    {
     "name": "stdout",
     "output_type": "stream",
     "text": [
      "This number is greater than 10 => 11\n",
      "This number is greater than 10 => 12\n",
      "This number is greater than 10 => 13\n",
      "This number is greater than 10 => 14\n",
      "This number is greater than 10 => 15\n"
     ]
    }
   ],
   "source": [
    "# Print the numbers from for loop and start them from value 1\n",
    "# but print values on terminal if number is greater than 10\n",
    "\n",
    "for num in range(1,16):\n",
    "    if(num<=10):\n",
    "        continue\n",
    "    print(f\"This number is greater than 10 => {num}\")\n"
   ]
  },
  {
   "cell_type": "code",
   "execution_count": null,
   "metadata": {},
   "outputs": [],
   "source": []
  }
 ],
 "metadata": {
  "kernelspec": {
   "display_name": "Python 3.6.3 (conda)",
   "language": "python",
   "name": "python3"
  },
  "language_info": {
   "codemirror_mode": {
    "name": "ipython",
    "version": 3
   },
   "file_extension": ".py",
   "mimetype": "text/x-python",
   "name": "python",
   "nbconvert_exporter": "python",
   "pygments_lexer": "ipython3",
   "version": "3.6.3"
  },
  "orig_nbformat": 4,
  "vscode": {
   "interpreter": {
    "hash": "fb29721641b3528dde4c4eddbdea07da74d43a465b04c562f0f4186bd1e40193"
   }
  }
 },
 "nbformat": 4,
 "nbformat_minor": 2
}
