{
 "cells": [
  {
   "cell_type": "markdown",
   "metadata": {},
   "source": [
    "## Operators in Python"
   ]
  },
  {
   "cell_type": "markdown",
   "metadata": {},
   "source": [
    "### Numerical Operators in Python\n",
    "```\n",
    "+ for addition\n",
    "- for substractions\n",
    "* for multiplication\n",
    "/ for float division\n",
    "// for integer division\n",
    "** for power calculation\n",
    "% for Modulus\n",
    "```"
   ]
  },
  {
   "cell_type": "code",
   "execution_count": 1,
   "metadata": {},
   "outputs": [],
   "source": [
    "x =5\n",
    "y=3"
   ]
  },
  {
   "cell_type": "code",
   "execution_count": 6,
   "metadata": {},
   "outputs": [
    {
     "name": "stdout",
     "output_type": "stream",
     "text": [
      "Output of (5 + 3) => 8\n",
      "Output of (5 - 3) =>2\n",
      "Output of (5 * 3) => 15\n",
      "Output of (5 / 3) => 1.6666666666666667\n",
      "Output of (5 // 3) => 1\n",
      "Output of (5 ** 3) => 125\n",
      "Output of (5 % 3) => 2\n"
     ]
    }
   ],
   "source": [
    "print(f\"Output of ({x} + {y}) => {x + y}\")\n",
    "print(f\"Output of ({x} - {y}) =>{x-y}\")\n",
    "print(f\"Output of ({x} * {y}) => {x*y}\")\n",
    "print(f\"Output of ({x} / {y}) => {x/y}\")\n",
    "print(f\"Output of ({x} // {y}) => {x//y}\")\n",
    "print(f\"Output of ({x} ** {y}) => {x**y}\")\n",
    "print(f\"Output of ({x} % {y}) => {x%y}\")"
   ]
  },
  {
   "cell_type": "code",
   "execution_count": 9,
   "metadata": {},
   "outputs": [
    {
     "name": "stdout",
     "output_type": "stream",
     "text": [
      "Output of string concat of (John,' ', Doe) => John Doe\n"
     ]
    }
   ],
   "source": [
    "## concatenation operation for string\n",
    "first_name =\"John\"\n",
    "last_name = \"Doe\"\n",
    "full_name = first_name + \" \" + last_name\n",
    "print(f\"Output of string concat of ({first_name},' ', {last_name}) => {full_name}\")"
   ]
  },
  {
   "cell_type": "code",
   "execution_count": 11,
   "metadata": {},
   "outputs": [],
   "source": [
    "## try subtract operation on string\n",
    "#first_name - last_name\n",
    "\n",
    "##Note: Subtract operation does not work on first_name and last_name"
   ]
  },
  {
   "cell_type": "code",
   "execution_count": 21,
   "metadata": {},
   "outputs": [
    {
     "data": {
      "text/plain": [
       "'JohnJohnJohn'"
      ]
     },
     "execution_count": 21,
     "metadata": {},
     "output_type": "execute_result"
    }
   ],
   "source": [
    "## try multiply operation on first_name and last_name\n",
    "## first_name*last_name\n",
    "\n",
    "first_name*3 # Copies the first name three times"
   ]
  },
  {
   "cell_type": "code",
   "execution_count": 23,
   "metadata": {},
   "outputs": [],
   "source": [
    " ## Try power operation on string\n",
    "#first_name ** last_name # Does not work\n",
    "#first_name **3 ## This also does not work\n"
   ]
  },
  {
   "cell_type": "markdown",
   "metadata": {},
   "source": [
    "### Assignment operators\n",
    "```\n",
    "=  , x = 5\n",
    "+= , x += 5 -> x = x + 5\n",
    "-= , x -= 5 -> x = x - 5\n",
    "*= , x *= 5 -> x = x * 5\n",
    "/= , x /= 5 -> x = x / 5\n",
    "//= , x //= 5 -> x = x // 5\n",
    "%= , x %= 5 -> x = x % 5\n",
    "```"
   ]
  },
  {
   "cell_type": "code",
   "execution_count": 35,
   "metadata": {},
   "outputs": [
    {
     "name": "stdout",
     "output_type": "stream",
     "text": [
      "(x = 5) => 5\n",
      "(x += 5) => 10\n",
      "(x -= 5) => 5\n",
      "(x *= 5) => 25\n",
      "(x /= 5) => 5.0\n",
      "(x //= 5) => 1.0\n",
      "(x %= 5) => 1.0\n"
     ]
    }
   ],
   "source": [
    "x =5\n",
    "print(f\"(x = 5) => {x}\")\n",
    "x+=5\n",
    "print(f\"(x += 5) => {x}\")\n",
    "x-=5\n",
    "print(f\"(x -= 5) => {x}\")\n",
    "x*=5\n",
    "print(f\"(x *= 5) => {x}\")\n",
    "x/=5\n",
    "print(f\"(x /= 5) => {x}\")\n",
    "x//=5\n",
    "print(f\"(x //= 5) => {x}\")\n",
    "x%=5\n",
    "print(f\"(x %= 5) => {x}\")"
   ]
  },
  {
   "cell_type": "markdown",
   "metadata": {},
   "source": [
    "### Comparison Operators ( we compare operand values)\n",
    "```\n",
    "== , Equals to condition , x == y\n",
    "!= , Not Equals to condition , x != y\n",
    "> , Greater than condition , x > y\n",
    "< , Less than condition , x < y\n",
    ">= , Greater than and Equals to condition , x >= y\n",
    "<= , Less than and Equals to condition , x <= y\n",
    "```"
   ]
  },
  {
   "cell_type": "code",
   "execution_count": 41,
   "metadata": {},
   "outputs": [
    {
     "name": "stdout",
     "output_type": "stream",
     "text": [
      "Result of (10 == 5) => False\n",
      "Result of (10 != 5) => True\n",
      "Result of (10 > 5) => True\n",
      "Result of (10 < 5) => False\n",
      "Result of (10 >= 5) => True\n",
      "Result of (10 <= 5) => False\n"
     ]
    }
   ],
   "source": [
    "a =10\n",
    "b = 5\n",
    "\n",
    "print(f\"Result of ({a} == {b}) => {a == b}\")\n",
    "print(f\"Result of ({a} != {b}) => {a != b}\")\n",
    "print(f\"Result of ({a} > {b}) => {a > b}\")\n",
    "print(f\"Result of ({a} < {b}) => {a < b}\")\n",
    "print(f\"Result of ({a} >= {b}) => {a >= b}\")\n",
    "print(f\"Result of ({a} <= {b}) => {a <= b}\")"
   ]
  },
  {
   "cell_type": "markdown",
   "metadata": {},
   "source": [
    "### Logical operators in Python ( Logical check will happen for expression result)\n",
    "```\n",
    "and -> Returns true if both statements are true \n",
    "or -> Returns true if one of statements are true\n",
    "not -> Reverse the result, returns false if the result is true\n",
    "```"
   ]
  },
  {
   "cell_type": "code",
   "execution_count": 63,
   "metadata": {},
   "outputs": [
    {
     "name": "stdout",
     "output_type": "stream",
     "text": [
      "Result of (10>10 and 8<10) => False\n",
      "Result of (10>20 or 8<10) => True\n",
      "Result of not(10>20 or 8<10) => False\n"
     ]
    }
   ],
   "source": [
    "m = 10\n",
    "n = 8\n",
    "print(f\"Result of ({m}>10 and {n}<10) => {m>10 and n<10}\")\n",
    "print(f\"Result of ({m}>20 or {n}<10) => {m>20 or n<10}\")\n",
    "print(f\"Result of not({m}>20 or {n}<10) => {not(m>20 or n<10)}\")"
   ]
  },
  {
   "cell_type": "code",
   "execution_count": null,
   "metadata": {},
   "outputs": [],
   "source": []
  }
 ],
 "metadata": {
  "kernelspec": {
   "display_name": "Python 3.6.3 (conda)",
   "language": "python",
   "name": "python3"
  },
  "language_info": {
   "codemirror_mode": {
    "name": "ipython",
    "version": 3
   },
   "file_extension": ".py",
   "mimetype": "text/x-python",
   "name": "python",
   "nbconvert_exporter": "python",
   "pygments_lexer": "ipython3",
   "version": "3.6.3"
  },
  "orig_nbformat": 4,
  "vscode": {
   "interpreter": {
    "hash": "fb29721641b3528dde4c4eddbdea07da74d43a465b04c562f0f4186bd1e40193"
   }
  }
 },
 "nbformat": 4,
 "nbformat_minor": 2
}
