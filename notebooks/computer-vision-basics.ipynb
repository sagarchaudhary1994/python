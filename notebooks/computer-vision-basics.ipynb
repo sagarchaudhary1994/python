{
 "cells": [
  {
   "cell_type": "markdown",
   "metadata": {},
   "source": [
    "# Computer Vision Basic\n",
    "<div>\n",
    "    </br>\n",
    "<img src=\"https://images.unsplash.com/photo-1501621667575-af81f1f0bacc?ixlib=rb-4.0.3&ixid=MnwxMjA3fDB8MHxwaG90by1wYWdlfHx8fGVufDB8fHx8&auto=format&fit=crop&w=2070&q=80\" \n",
    "     width=\"600\"/>\n",
    "</div>"
   ]
  },
  {
   "attachments": {},
   "cell_type": "markdown",
   "metadata": {},
   "source": [
    "## Uses of Computer Vision\n",
    "\n",
    "Computer Vision is the ability of computers to classify image, do object detection, object tracking, segmentation.\n",
    "\n",
    "Types of Segmentation:\n",
    "1. Semantic Segmentation\n",
    "2. Instance Segmentation\n",
    "3. Pranoptic Segmentation\n"
   ]
  },
  {
   "cell_type": "markdown",
   "metadata": {},
   "source": [
    "## Understand Images\n",
    "\n",
    "### Color Channels:\n",
    "There are three commonly used channels. **RGB** Red, Blue and Green. But there is also another channel- **alpha-channel** used for transparency."
   ]
  },
  {
   "cell_type": "markdown",
   "metadata": {},
   "source": [
    "## Convolution\n",
    "\n",
    "### Why Convolution?\n",
    "\n",
    "### Maths behind Convolution:\n"
   ]
  },
  {
   "cell_type": "code",
   "execution_count": 1,
   "metadata": {},
   "outputs": [],
   "source": [
    "import pandas as pd"
   ]
  },
  {
   "cell_type": "code",
   "execution_count": null,
   "metadata": {},
   "outputs": [],
   "source": []
  },
  {
   "cell_type": "code",
   "execution_count": null,
   "metadata": {},
   "outputs": [],
   "source": []
  }
 ],
 "metadata": {
  "kernelspec": {
   "display_name": "Python 3",
   "language": "python",
   "name": "python3"
  },
  "language_info": {
   "codemirror_mode": {
    "name": "ipython",
    "version": 3
   },
   "file_extension": ".py",
   "mimetype": "text/x-python",
   "name": "python",
   "nbconvert_exporter": "python",
   "pygments_lexer": "ipython3",
   "version": "3.6.3"
  },
  "vscode": {
   "interpreter": {
    "hash": "29acf6d9f664acf050b8cce87cda3e1385a17498cb22700be1ada7befa6fbf5f"
   }
  }
 },
 "nbformat": 4,
 "nbformat_minor": 2
}
