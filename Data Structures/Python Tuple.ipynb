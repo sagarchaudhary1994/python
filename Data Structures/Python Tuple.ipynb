{
 "cells": [
  {
   "cell_type": "markdown",
   "metadata": {},
   "source": [
    "# Python Tuple - Immutable Object"
   ]
  },
  {
   "cell_type": "code",
   "execution_count": 3,
   "metadata": {},
   "outputs": [
    {
     "name": "stdout",
     "output_type": "stream",
     "text": [
      "Data Type of variable t1=> <class 'tuple'>\n"
     ]
    }
   ],
   "source": [
    "##empty tuple\n",
    "t1=()\n",
    "print(f\"Data Type of variable t1=> {type(t1)}\")"
   ]
  },
  {
   "cell_type": "code",
   "execution_count": 6,
   "metadata": {},
   "outputs": [],
   "source": [
    "## try updating and appending value in t1\n",
    "#t1[0]=2\n",
    "## Tuple does not support assignment, as it is Immutable object"
   ]
  },
  {
   "cell_type": "code",
   "execution_count": 7,
   "metadata": {},
   "outputs": [
    {
     "name": "stdout",
     "output_type": "stream",
     "text": [
      "Print tuple obejct t2=> (1, 2, 3, 4, 5)\n",
      "length of tuple object t2 is => 5\n"
     ]
    }
   ],
   "source": [
    "## create tuple with elements\n",
    "t2=(1,2,3,4,5)\n",
    "print(f\"Print tuple obejct t2=> {t2}\")\n",
    "print(f\"length of tuple object t2 is => {len(t2)}\")"
   ]
  },
  {
   "cell_type": "code",
   "execution_count": 10,
   "metadata": {},
   "outputs": [
    {
     "name": "stdout",
     "output_type": "stream",
     "text": [
      "Value at index 2 is=>3\n"
     ]
    }
   ],
   "source": [
    "##get tuple value using index\n",
    "val_2=t2[2]\n",
    "print(f\"Value at index 2 is=>{t2[2]}\")"
   ]
  },
  {
   "cell_type": "code",
   "execution_count": 11,
   "metadata": {},
   "outputs": [
    {
     "name": "stdout",
     "output_type": "stream",
     "text": [
      "Element =>1\n",
      "Element =>2\n",
      "Element =>3\n",
      "Element =>4\n",
      "Element =>5\n"
     ]
    }
   ],
   "source": [
    "##iterating on the tuple object\n",
    "for el in t2:\n",
    "    print(f\"Element =>{el}\")"
   ]
  },
  {
   "cell_type": "code",
   "execution_count": 18,
   "metadata": {},
   "outputs": [
    {
     "name": "stdout",
     "output_type": "stream",
     "text": [
      "Tuple object=> (1, 2, 3, 4, 5)\n",
      "Last value=> 5\n",
      "First two values=> (1, 2)\n",
      "Last two values=> (4, 5)\n",
      "Reverse the tuple=> (5, 4, 3, 2, 1)\n"
     ]
    }
   ],
   "source": [
    "##slicing \n",
    "print(f\"Tuple object=> {t2}\")\n",
    "print(f\"Last value=> {t2[-1]}\")\n",
    "print(f\"First two values=> {t2[:2]}\")\n",
    "print(f\"Last two values=> {t2[-2:]}\")\n",
    "print(f\"Reverse the tuple=> {t2[-1::-1]}\")"
   ]
  },
  {
   "cell_type": "code",
   "execution_count": null,
   "metadata": {},
   "outputs": [],
   "source": []
  }
 ],
 "metadata": {
  "kernelspec": {
   "display_name": "Python 3.6.3 (conda)",
   "language": "python",
   "name": "python3"
  },
  "language_info": {
   "codemirror_mode": {
    "name": "ipython",
    "version": 3
   },
   "file_extension": ".py",
   "mimetype": "text/x-python",
   "name": "python",
   "nbconvert_exporter": "python",
   "pygments_lexer": "ipython3",
   "version": "3.6.3"
  },
  "orig_nbformat": 4,
  "vscode": {
   "interpreter": {
    "hash": "fb29721641b3528dde4c4eddbdea07da74d43a465b04c562f0f4186bd1e40193"
   }
  }
 },
 "nbformat": 4,
 "nbformat_minor": 2
}
