{
 "cells": [
  {
   "cell_type": "markdown",
   "metadata": {},
   "source": [
    "# Python String"
   ]
  },
  {
   "cell_type": "code",
   "execution_count": 4,
   "metadata": {},
   "outputs": [
    {
     "name": "stdout",
     "output_type": "stream",
     "text": [
      "Print str1- Full Stack Data Science\n",
      "Print str2- Learn python\n",
      "Print str3- Learning python is fun\n"
     ]
    }
   ],
   "source": [
    "## Create string\n",
    "str1 = \"Full Stack Data Science\"\n",
    "print(f\"Print str1- {str1}\")\n",
    "\n",
    "str2=\"Learn python\"\n",
    "print(f\"Print str2- {str2}\")\n",
    "\n",
    "str3=\"Learning python is fun\"\n",
    "print(f\"Print str3- {str3}\")"
   ]
  },
  {
   "cell_type": "code",
   "execution_count": 5,
   "metadata": {},
   "outputs": [
    {
     "name": "stdout",
     "output_type": "stream",
     "text": [
      "Length of str1 is 23\n",
      "Length of str2 is 12\n",
      "Length of str3 is 22\n"
     ]
    }
   ],
   "source": [
    "##print length of str1, str2 and str3\n",
    "print(f\"Length of str1 is {len(str1)}\")\n",
    "print(f\"Length of str2 is {len(str2)}\")\n",
    "print(f\"Length of str3 is {len(str3)}\")"
   ]
  },
  {
   "cell_type": "code",
   "execution_count": 6,
   "metadata": {},
   "outputs": [
    {
     "name": "stdout",
     "output_type": "stream",
     "text": [
      "Print multiline string- \n",
      "Learning Python is prerequisite\n",
      "for learning Data Science,\n",
      "so start learning with\n",
      "basics of python. And\n",
      "then move to other topic.\n",
      "\n",
      "Print length of multiline string- 131\n"
     ]
    }
   ],
   "source": [
    "##write multiline strings\n",
    "multiline = '''\n",
    "Learning Python is prerequisite\n",
    "for learning Data Science,\n",
    "so start learning with\n",
    "basics of python. And\n",
    "then move to other topic.\n",
    "'''\n",
    "print(f\"Print multiline string- {multiline}\")\n",
    "print(f\"Print length of multiline string- {len(multiline)}\")"
   ]
  },
  {
   "cell_type": "code",
   "execution_count": 8,
   "metadata": {},
   "outputs": [
    {
     "name": "stdout",
     "output_type": "stream",
     "text": [
      "Full string- Full Stack Data Science\n"
     ]
    }
   ],
   "source": [
    "##String Concatenation\n",
    "strPart1=\"Full Stack\"\n",
    "strPart2= \" Data Science\"\n",
    "fullString = strPart1 + strPart2\n",
    "print(f\"Full string- {fullString}\")"
   ]
  },
  {
   "cell_type": "code",
   "execution_count": 11,
   "metadata": {},
   "outputs": [
    {
     "name": "stdout",
     "output_type": "stream",
     "text": [
      "Is comapre1 and compare2 equal=> True\n",
      "Is compare2 and compare3 equal=> False\n"
     ]
    }
   ],
   "source": [
    "## string comparision\n",
    "compare1=\"Hello! I am learning python\"\n",
    "compare2 =\"Hello! I am learning python\"\n",
    "print(f\"Is comapre1 and compare2 equal=> {compare1==compare2}\")\n",
    "compare3 =\"hello! I am learning python\" ##only H is changed to lower case h\n",
    "print(f\"Is compare2 and compare3 equal=> {compare2==compare3}\")"
   ]
  },
  {
   "cell_type": "code",
   "execution_count": 13,
   "metadata": {},
   "outputs": [
    {
     "name": "stdout",
     "output_type": "stream",
     "text": [
      "Character- H\n",
      "Character- e\n",
      "Character- l\n",
      "Character- l\n",
      "Character- o\n",
      "Character- !\n",
      "Character-  \n",
      "Character- P\n",
      "Character- r\n",
      "Character- i\n",
      "Character- n\n",
      "Character- t\n"
     ]
    }
   ],
   "source": [
    "##print each character of string\n",
    "printString=\"Hello! Print\"\n",
    "for ch in printString:\n",
    "    print(f\"Character- {ch}\")"
   ]
  },
  {
   "cell_type": "code",
   "execution_count": 15,
   "metadata": {},
   "outputs": [
    {
     "name": "stdout",
     "output_type": "stream",
     "text": [
      "String before change case- Hello! Please change the case of this string\n",
      "String after convertign to lower case- hello! please change the case of this string\n",
      "String after change case to upper case- HELLO! PLEASE CHANGE THE CASE OF THIS STRING\n"
     ]
    }
   ],
   "source": [
    "##Lower case\n",
    "changeCaseString= \"Hello! Please change the case of this string\"\n",
    "print(f\"String before change case- {changeCaseString}\")\n",
    "print(f\"String after convertign to lower case- {changeCaseString.lower()}\")\n",
    "print(f\"String after change case to upper case- {changeCaseString.upper()}\")"
   ]
  },
  {
   "cell_type": "code",
   "execution_count": null,
   "metadata": {},
   "outputs": [],
   "source": []
  }
 ],
 "metadata": {
  "kernelspec": {
   "display_name": "Python 3.6.3 (conda)",
   "language": "python",
   "name": "python3"
  },
  "language_info": {
   "codemirror_mode": {
    "name": "ipython",
    "version": 3
   },
   "file_extension": ".py",
   "mimetype": "text/x-python",
   "name": "python",
   "nbconvert_exporter": "python",
   "pygments_lexer": "ipython3",
   "version": "3.6.3"
  },
  "orig_nbformat": 4,
  "vscode": {
   "interpreter": {
    "hash": "fb29721641b3528dde4c4eddbdea07da74d43a465b04c562f0f4186bd1e40193"
   }
  }
 },
 "nbformat": 4,
 "nbformat_minor": 2
}
