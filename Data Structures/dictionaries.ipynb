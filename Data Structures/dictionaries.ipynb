{
 "cells": [
  {
   "cell_type": "markdown",
   "metadata": {},
   "source": [
    "# Dictionary in Python"
   ]
  },
  {
   "cell_type": "code",
   "execution_count": 1,
   "metadata": {},
   "outputs": [
    {
     "name": "stdout",
     "output_type": "stream",
     "text": [
      "<class 'dict'>\n"
     ]
    }
   ],
   "source": [
    "##initializing dictionary\n",
    "dict1 ={}\n",
    "print(type(dict1))"
   ]
  },
  {
   "cell_type": "code",
   "execution_count": 10,
   "metadata": {},
   "outputs": [],
   "source": [
    "## Insert Values in Dictionary\n",
    "dict2 = {}\n",
    "dict2['name'] =\"Sagar Chaudhary\"\n",
    "dict2[\"department\"] =\"Tech\"\n",
    "dict2[\"skills\"]=[\"python\",\"pandas\"]\n",
    "dict2[\"libraries\"]={\n",
    "    \"data_analysis\":[\"pandas\",\"dask\"],\n",
    "    \"ml\":{\"scikit-learn\"}\n",
    "}\n",
    "dict2[1]=\"id\"\n",
    "dict2[\"Cities\"]=(\"Bangalore\",\"New Delhi\")\n",
    "dict2[\"exp\"]=5.0\n",
    "dict2[\"count\"]=2"
   ]
  },
  {
   "cell_type": "code",
   "execution_count": 12,
   "metadata": {},
   "outputs": [
    {
     "data": {
      "text/plain": [
       "{'name': 'Sagar Chaudhary',\n",
       " 'department': 'Tech',\n",
       " 'skills': ['python', 'pandas'],\n",
       " 'libraries': {'data_analysis': ['pandas', 'dask'], 'ml': {'scikit-learn'}},\n",
       " 1: 'id',\n",
       " 'Cities': ('Bangalore', 'New Delhi'),\n",
       " 'exp': 5.0,\n",
       " 'count': 2}"
      ]
     },
     "execution_count": 12,
     "metadata": {},
     "output_type": "execute_result"
    }
   ],
   "source": [
    "#print dictionary\n",
    "dict2"
   ]
  },
  {
   "cell_type": "code",
   "execution_count": 13,
   "metadata": {},
   "outputs": [
    {
     "data": {
      "text/plain": [
       "8"
      ]
     },
     "execution_count": 13,
     "metadata": {},
     "output_type": "execute_result"
    }
   ],
   "source": [
    "## print length of dictionary\n",
    "len(dict2)"
   ]
  },
  {
   "cell_type": "code",
   "execution_count": 20,
   "metadata": {},
   "outputs": [
    {
     "name": "stdout",
     "output_type": "stream",
     "text": [
      "['python', 'pandas']\n",
      "python\n",
      "{'data_analysis': ['pandas', 'dask'], 'ml': {'scikit-learn'}}\n",
      "['pandas', 'dask']\n",
      "pandas\n"
     ]
    }
   ],
   "source": [
    "##access values of particular key\n",
    "skills = dict2[\"skills\"]\n",
    "print(skills)\n",
    "print(skills[0])\n",
    "libraries = dict2[\"libraries\"]\n",
    "print(libraries)\n",
    "print(libraries[\"data_analysis\"])\n",
    "print(libraries[\"data_analysis\"][0])"
   ]
  },
  {
   "cell_type": "code",
   "execution_count": 23,
   "metadata": {},
   "outputs": [
    {
     "name": "stdout",
     "output_type": "stream",
     "text": [
      "5.6\n"
     ]
    }
   ],
   "source": [
    "##update value on particular key\n",
    "dict2[\"exp\"] = 5.6\n",
    "print(dict2[\"exp\"])"
   ]
  },
  {
   "cell_type": "code",
   "execution_count": 26,
   "metadata": {},
   "outputs": [
    {
     "name": "stdout",
     "output_type": "stream",
     "text": [
      "Keys in dictionary are- ['name', 'department', 'skills', 'libraries', 1, 'Cities', 'exp', 'count']\n"
     ]
    }
   ],
   "source": [
    "## Get keys from dictioanary\n",
    "dict_keys = dict2.keys()\n",
    "print(f\"Keys in dictionary are- {list(dict_keys)}\")"
   ]
  },
  {
   "cell_type": "code",
   "execution_count": 27,
   "metadata": {},
   "outputs": [
    {
     "name": "stdout",
     "output_type": "stream",
     "text": [
      "Values from the dictionary are- dict_values(['Sagar Chaudhary', 'Tech', ['python', 'pandas'], {'data_analysis': ['pandas', 'dask'], 'ml': {'scikit-learn'}}, 'id', ('Bangalore', 'New Delhi'), 5.6, 2])\n"
     ]
    }
   ],
   "source": [
    "## Get values from dictionary\n",
    "dict_values = dict2.values()\n",
    "print(f\"Values from the dictionary are- {dict_values}\")"
   ]
  },
  {
   "cell_type": "code",
   "execution_count": 32,
   "metadata": {},
   "outputs": [
    {
     "name": "stdout",
     "output_type": "stream",
     "text": [
      "For Key: name value is :Sagar Chaudhary\n",
      "For Key: department value is :Tech\n",
      "For Key: skills value is :['python', 'pandas']\n",
      "For Key: libraries value is :{'data_analysis': ['pandas', 'dask'], 'ml': {'scikit-learn'}}\n",
      "For Key: 1 value is :id\n",
      "For Key: Cities value is :('Bangalore', 'New Delhi')\n",
      "For Key: exp value is :5.6\n",
      "For Key: count value is :2\n"
     ]
    }
   ],
   "source": [
    "## iterate on dictionary\n",
    "for k,v in dict2.items():\n",
    "    print(f\"For Key: {k} value is :{v}\")"
   ]
  },
  {
   "cell_type": "code",
   "execution_count": 36,
   "metadata": {},
   "outputs": [
    {
     "name": "stdout",
     "output_type": "stream",
     "text": [
      "Is dict3 and dict4 equal- True\n",
      "Is dict4 and dict5 equal- False\n"
     ]
    }
   ],
   "source": [
    "## Compare dictionary\n",
    "dict3={\"a\":1,\"b\":2,\"c\":3}\n",
    "dict4={\"b\":2,\"c\":3,\"a\":1}\n",
    "print(f\"Is dict3 and dict4 equal- {dict3==dict4}\")\n",
    "\n",
    "dict5={\"b\":2,\"c\":3,\"a\":5}\n",
    "print(f\"Is dict4 and dict5 equal- {dict4==dict5}\")"
   ]
  },
  {
   "cell_type": "code",
   "execution_count": 45,
   "metadata": {},
   "outputs": [
    {
     "name": "stdout",
     "output_type": "stream",
     "text": [
      "Key 'exp' does not exist in dictionary\n",
      "\n",
      "Key '1' does not exist in dictionary\n",
      "\n",
      "number of keys in dictionary after removing keys- 6\n",
      "dict2 after deleting keys 'exp' and 1-\n",
      "{'name': 'Sagar Chaudhary', 'department': 'Tech', 'skills': ['python', 'pandas'], 'libraries': {'data_analysis': ['pandas', 'dask'], 'ml': {'scikit-learn'}}, 'Cities': ('Bangalore', 'New Delhi'), 'count': 2}\n"
     ]
    }
   ],
   "source": [
    "## delete specific key from the dictionary\n",
    "key_to_del = [\"exp\",1]\n",
    "for k in key_to_del:\n",
    "    if(k in list(dict2.keys())):\n",
    "        del dict2[k]\n",
    "        print(f\"Key '{k}' deleted\")\n",
    "    else:\n",
    "        print(f\"Key '{k}' does not exist in dictionary\\n\")\n",
    "\n",
    "print(f\"number of keys in dictionary after removing keys- {len(dict2.keys())}\")\n",
    "print(f\"dict2 after deleting keys 'exp' and 1-\\n{dict2}\")"
   ]
  },
  {
   "cell_type": "code",
   "execution_count": 49,
   "metadata": {},
   "outputs": [
    {
     "name": "stdout",
     "output_type": "stream",
     "text": [
      "Key 'skills' is present in dictionary\n",
      "Sorry, key 'exp' could not be found in dictionary\n"
     ]
    }
   ],
   "source": [
    "## check if key exist in dictionary or not\n",
    "keys_to_find = [\"skills\",\"exp\"]\n",
    "\n",
    "for k in keys_to_find:\n",
    "    if(k in list(dict2.keys())):\n",
    "        print(f\"Key '{k}' is present in dictionary\")\n",
    "    else:\n",
    "        print(f\"Sorry, key '{k}' could not be found in dictionary\")"
   ]
  },
  {
   "cell_type": "code",
   "execution_count": null,
   "metadata": {},
   "outputs": [],
   "source": []
  }
 ],
 "metadata": {
  "kernelspec": {
   "display_name": "Python 3",
   "language": "python",
   "name": "python3"
  },
  "language_info": {
   "codemirror_mode": {
    "name": "ipython",
    "version": 3
   },
   "file_extension": ".py",
   "mimetype": "text/x-python",
   "name": "python",
   "nbconvert_exporter": "python",
   "pygments_lexer": "ipython3",
   "version": "3.6.3"
  },
  "vscode": {
   "interpreter": {
    "hash": "fb29721641b3528dde4c4eddbdea07da74d43a465b04c562f0f4186bd1e40193"
   }
  }
 },
 "nbformat": 4,
 "nbformat_minor": 4
}
