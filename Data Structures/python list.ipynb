{
 "cells": [
  {
   "cell_type": "markdown",
   "id": "23c4a125",
   "metadata": {},
   "source": [
    "# Python Lists"
   ]
  },
  {
   "cell_type": "code",
   "execution_count": 6,
   "id": "6a416e6f-53db-4802-903b-c865f01eed32",
   "metadata": {},
   "outputs": [
    {
     "name": "stdout",
     "output_type": "stream",
     "text": [
      "Type of variable lst1- <class 'list'>\n",
      "Intitial length of lst1- 0\n"
     ]
    }
   ],
   "source": [
    "## Declare empty list\n",
    "lst1= []\n",
    "print(f\"Type of variable lst1- {type(lst1)}\")\n",
    "print(f\"Intitial length of lst1- {len(lst1)}\")"
   ]
  },
  {
   "cell_type": "code",
   "execution_count": 7,
   "id": "a838aad6",
   "metadata": {},
   "outputs": [
    {
     "name": "stdout",
     "output_type": "stream",
     "text": [
      "Print lst1 after appending items- [4, 5, 8.0, 'Random String', ('UP', 'Karnataka'), {2, 'FSDS'}, [1, 2, 3, 4]]\n",
      "Number of items after appending items- 7\n"
     ]
    }
   ],
   "source": [
    "## insert items in list\n",
    "lst1.append(4)\n",
    "lst1.append(5)\n",
    "lst1.append(8.0)\n",
    "lst1.append(\"Random String\")\n",
    "lst1.append((\"UP\",\"Karnataka\"))\n",
    "lst1.append({2,\"FSDS\"})\n",
    "lst1.append([1,2,3,4])\n",
    "print(f\"Print lst1 after appending items- {lst1}\")\n",
    "print(f\"Number of items after appending items- {len(lst1)}\")"
   ]
  },
  {
   "cell_type": "code",
   "execution_count": 9,
   "id": "82a63021",
   "metadata": {},
   "outputs": [
    {
     "name": "stdout",
     "output_type": "stream",
     "text": [
      "Check if compare_lst1 and compare_lst2 are equal- True\n",
      "Check if compare_lst2 and compare_lst3 are equal- False\n"
     ]
    }
   ],
   "source": [
    "##Compare lists \n",
    "compare_lst1 = [\"FSDS\",1,9.0,[1,2,3]]\n",
    "compare_lst2 = [\"FSDS\",1,9.0,[1,2,3]]\n",
    "print(f\"Check if compare_lst1 and compare_lst2 are equal- {compare_lst1==compare_lst2}\")\n",
    "compare_lst3 = [\"FSDS\",1,9.0,[1,2,3,4]]\n",
    "print(f\"Check if compare_lst2 and compare_lst3 are equal- {compare_lst2==compare_lst3}\")"
   ]
  },
  {
   "cell_type": "code",
   "execution_count": 11,
   "id": "eb0ec459",
   "metadata": {},
   "outputs": [
    {
     "name": "stdout",
     "output_type": "stream",
     "text": [
      "Print lst1 before pop opertation- [4, 5, 8.0, 'Random String', ('UP', 'Karnataka'), {2, 'FSDS'}, [1, 2, 3, 4]]\n",
      "Print lst1 after pop operation- [4, 5, 8.0, 'Random String', ('UP', 'Karnataka'), {2, 'FSDS'}]\n"
     ]
    }
   ],
   "source": [
    "## remove items from list\n",
    "print(f\"Print lst1 before pop opertation- {lst1}\")\n",
    "lst1.pop()\n",
    "print(f\"Print lst1 after pop operation- {lst1}\")"
   ]
  },
  {
   "cell_type": "code",
   "execution_count": 12,
   "id": "93a4f8a7",
   "metadata": {},
   "outputs": [
    {
     "name": "stdout",
     "output_type": "stream",
     "text": [
      "Print final list after concat of concat_lst1 and concat_lst2-\n",
      "[1, 2, 3, 4, 14, 5, 6, 7]\n"
     ]
    }
   ],
   "source": [
    "##concat list\n",
    "concat_lst1 = [1,2,3,4]\n",
    "concat_lst2= [14,5,6,7]\n",
    "final_lst = concat_lst1 + concat_lst2\n",
    "print(f\"Print final list after concat of concat_lst1 and concat_lst2-\\n{final_lst}\")"
   ]
  },
  {
   "cell_type": "code",
   "execution_count": 13,
   "id": "6a68c059",
   "metadata": {},
   "outputs": [
    {
     "name": "stdout",
     "output_type": "stream",
     "text": [
      "Element- 1\n",
      "Element- 2\n",
      "Element- 3\n",
      "Element- 4\n",
      "Element- 14\n",
      "Element- 5\n",
      "Element- 6\n",
      "Element- 7\n"
     ]
    }
   ],
   "source": [
    "##access list values, lets say from final_lst\n",
    "for num in final_lst:\n",
    "    print(f\"Element- {num}\")"
   ]
  },
  {
   "cell_type": "code",
   "execution_count": 15,
   "id": "1c356909",
   "metadata": {},
   "outputs": [
    {
     "name": "stdout",
     "output_type": "stream",
     "text": [
      "Value in final_lst on index '0' is 1\n",
      "Value in final_lst on index '3' is 4\n",
      "Value in final_lst on index '4' is 14\n"
     ]
    }
   ],
   "source": [
    "## print the list value based on index\n",
    "index_to_find = [0,3,4]\n",
    "for id in index_to_find:\n",
    "    print(f\"Value in final_lst on index '{id}' is {final_lst[id]}\")"
   ]
  },
  {
   "cell_type": "code",
   "execution_count": 16,
   "id": "c88c6297",
   "metadata": {},
   "outputs": [
    {
     "name": "stdout",
     "output_type": "stream",
     "text": [
      "Print list after update- ['FSDS', 'Machine Learning', 'Jobs', 4]\n"
     ]
    }
   ],
   "source": [
    "##update the list at an particular index\n",
    "update_lst = [\"FSDS\",\"Data Science\",\"Jobs\",4]\n",
    "update_lst[1] = \"Machine Learning\"\n",
    "print(f\"Print list after update- {update_lst}\")"
   ]
  },
  {
   "cell_type": "code",
   "execution_count": 17,
   "id": "7626d58c",
   "metadata": {},
   "outputs": [
    {
     "name": "stdout",
     "output_type": "stream",
     "text": [
      "Item in list update_lst at id- '0' is FSDS\n",
      "Item in list update_lst at id- '1' is Machine Learning\n",
      "Item in list update_lst at id- '2' is Jobs\n",
      "Item in list update_lst at id- '3' is 4\n"
     ]
    }
   ],
   "source": [
    "##print items of list based on the length of list\n",
    "for id in range(len(update_lst)):\n",
    "    print(f\"Item in list update_lst at id- '{id}' is {update_lst[id]}\")"
   ]
  },
  {
   "cell_type": "code",
   "execution_count": 27,
   "id": "0557df08",
   "metadata": {},
   "outputs": [
    {
     "name": "stdout",
     "output_type": "stream",
     "text": [
      "\n",
      "----append operation-----\n",
      "\n",
      "List lst_append1- [39, 30, 40]\n",
      "List lst_append2- ['Hello', 'Hi', 'Great']\n",
      "Output of append of lst_append1 and lst_append2- [39, 30, 40, ['Hello', 'Hi', 'Great']]\n",
      "\n",
      "----extend operation-----\n",
      "\n",
      "List lst_extend1 - [39, 30, 40]\n",
      "List lst_extend2- ['Hi', 'hello', 'Great']\n",
      "Output of extend of lst_extend1 and lst_extend2- [39, 30, 40, 'Hi', 'hello', 'Great']\n"
     ]
    }
   ],
   "source": [
    "##Difference between append and extend\n",
    "print(f\"\\n----append operation-----\\n\")\n",
    "lst_append1 = [39,30,40]\n",
    "print(f\"List lst_append1- {lst_append1}\")\n",
    "lst_append2=[\"Hello\",\"Hi\",\"Great\"]\n",
    "print(f\"List lst_append2- {lst_append2}\")\n",
    "##append\n",
    "lst_append1.append(lst_append2)\n",
    "print(f\"Output of append of lst_append1 and lst_append2- {lst_append1}\")\n",
    "##extend\n",
    "print(f\"\\n----extend operation-----\\n\")\n",
    "lst_extend1 = [39,30,40]\n",
    "print(f\"List lst_extend1 - {lst_extend1}\")\n",
    "lst_extend2 = [\"Hi\",\"hello\",\"Great\"]\n",
    "print(f\"List lst_extend2- {lst_extend2}\")\n",
    "lst_extend1.extend(lst_extend2)\n",
    "print(f\"Output of extend of lst_extend1 and lst_extend2- {lst_extend1}\")\n"
   ]
  },
  {
   "cell_type": "code",
   "execution_count": 42,
   "id": "ec6c7356",
   "metadata": {},
   "outputs": [
    {
     "name": "stdout",
     "output_type": "stream",
     "text": [
      "List slice stating from 0 till 1- [2, 4]\n",
      "List slice starting from 4 to list end - [10, 12, 14, 16, 18, 20]\n",
      "Get all elements of list- [2, 4, 6, 8, 10, 12, 14, 16, 18, 20]\n",
      "List slice to get last element- 20\n",
      "List slice to get last two elements- [18, 20]\n",
      "List slice from index 4 to index 6- [10, 12, 14]\n",
      "List in reverse direction- [20, 18, 16, 14, 12, 10, 8, 6, 4, 2]\n"
     ]
    }
   ],
   "source": [
    "##list slicing\n",
    "list_slice = [2,4,6,8,10,12,14,16,18,20]\n",
    "print(f\"List slice stating from 0 till 1- {list_slice[:2]}\")\n",
    "print(f\"List slice starting from 4 to list end - {list_slice[4:]}\")\n",
    "print(f\"Get all elements of list- {list_slice[:]}\")\n",
    "print(f\"List slice to get last element- {list_slice[-1]}\")\n",
    "print(f\"List slice to get last two elements- {list_slice[-2:]}\")\n",
    "print(f\"List slice from index 4 to index 6- {list_slice[4:7]}\")\n",
    "print(f\"List in reverse direction- {list_slice[-1::-1]}\")"
   ]
  },
  {
   "cell_type": "code",
   "execution_count": 43,
   "id": "5f9248c2",
   "metadata": {},
   "outputs": [
    {
     "name": "stdout",
     "output_type": "stream",
     "text": [
      "Last element of list is - 20\n"
     ]
    }
   ],
   "source": [
    "##print last element of list using length of list\n",
    "print(f\"Last element of list is - {list_slice[len(list_slice)-1]}\")"
   ]
  },
  {
   "cell_type": "code",
   "execution_count": null,
   "id": "6b0eb365",
   "metadata": {},
   "outputs": [],
   "source": [
    "s"
   ]
  }
 ],
 "metadata": {
  "kernelspec": {
   "display_name": "Python 3.6.3 (conda)",
   "language": "python",
   "name": "python3"
  },
  "language_info": {
   "codemirror_mode": {
    "name": "ipython",
    "version": 3
   },
   "file_extension": ".py",
   "mimetype": "text/x-python",
   "name": "python",
   "nbconvert_exporter": "python",
   "pygments_lexer": "ipython3",
   "version": "3.6.3"
  },
  "vscode": {
   "interpreter": {
    "hash": "fb29721641b3528dde4c4eddbdea07da74d43a465b04c562f0f4186bd1e40193"
   }
  }
 },
 "nbformat": 4,
 "nbformat_minor": 5
}
