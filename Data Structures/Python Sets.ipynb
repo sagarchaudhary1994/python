{
 "cells": [
  {
   "cell_type": "markdown",
   "metadata": {},
   "source": [
    "##"
   ]
  },
  {
   "cell_type": "markdown",
   "metadata": {},
   "source": [
    "# Sets\n",
    "\n",
    "Sets stores the unique element"
   ]
  },
  {
   "cell_type": "code",
   "execution_count": 1,
   "metadata": {},
   "outputs": [
    {
     "name": "stdout",
     "output_type": "stream",
     "text": [
      "Print type of variable set1- <class 'set'>\n"
     ]
    }
   ],
   "source": [
    "##Sets in Python\n",
    "set1 = set()\n",
    "print(f\"Print type of variable set1- {type(set1)}\")"
   ]
  },
  {
   "cell_type": "code",
   "execution_count": 2,
   "metadata": {},
   "outputs": [
    {
     "name": "stdout",
     "output_type": "stream",
     "text": [
      "Print the type of variabel set2- <class 'set'>\n",
      "Print variable set2- {2, 4, 5, 6, 7, 8, 9}\n"
     ]
    }
   ],
   "source": [
    "##create another set\n",
    "set2 = {2,4,5,6,7,8,9}\n",
    "print(f\"Print the type of variabel set2- {type(set2)}\")\n",
    "print(f\"Print variable set2- {set2}\")"
   ]
  },
  {
   "cell_type": "code",
   "execution_count": 1,
   "metadata": {},
   "outputs": [
    {
     "name": "stdout",
     "output_type": "stream",
     "text": [
      "Print the length of list- 11\n",
      "Print the set created by converting set to list- {1, 2, 3, 4, 5, 7, 8}\n",
      "Length of set created from list is- 7\n",
      "Difference between length of list1 and set3(created from list1)- 4\n"
     ]
    }
   ],
   "source": [
    "##convert list to set\n",
    "list1=[1,2,1,3,5,4,3,2,1,7,8]\n",
    "print(f\"Print the length of list- {len(list1)}\")\n",
    "set3=set(list1)\n",
    "print(f\"Print the set created by converting set to list- {set3}\")\n",
    "print(f\"Length of set created from list is- {len(set3)}\")\n",
    "print(f\"Difference between length of list1 and set3(created from list1)- {len(list1)-len(set3)}\")\n"
   ]
  },
  {
   "cell_type": "code",
   "execution_count": 2,
   "metadata": {},
   "outputs": [
    {
     "name": "stdout",
     "output_type": "stream",
     "text": [
      "Element- 1\n",
      "Element- 2\n",
      "Element- 3\n",
      "Element- 4\n",
      "Element- 5\n",
      "Element- 7\n",
      "Element- 8\n"
     ]
    }
   ],
   "source": [
    "## iterate through elements of set\n",
    "for el in set3:\n",
    "    print(f\"Element- {el}\")"
   ]
  },
  {
   "cell_type": "code",
   "execution_count": 9,
   "metadata": {},
   "outputs": [
    {
     "name": "stdout",
     "output_type": "stream",
     "text": [
      "Item added- 1, and set4- {1}\n",
      "Item added- 3, and set4- {1, 3}\n",
      "Item added- 4, and set4- {1, 3, 4}\n",
      "Item added- 5, and set4- {1, 3, 4, 5}\n",
      "Item added- 6, and set4- {1, 3, 4, 5, 6}\n",
      "Item added- 7, and set4- {1, 3, 4, 5, 6, 7}\n",
      "Item added- 7, and set4- {1, 3, 4, 5, 6, 7}\n",
      "Item added- 8, and set4- {1, 3, 4, 5, 6, 7, 8}\n",
      "Item added- 9, and set4- {1, 3, 4, 5, 6, 7, 8, 9}\n",
      "\n",
      "No. of items in item_to_add=> 9 and no of items in set4=> 8\n"
     ]
    }
   ],
   "source": [
    "## add element to set\n",
    "set4=set()\n",
    "item_to_add = [1,3,4,5,6,7,7,8,9]\n",
    "for item in item_to_add:\n",
    "    set4.add(item)\n",
    "    print(f\"Item added- {item}, and set4- {set4}\")\n",
    "\n",
    "print(f\"\\nNo. of items in item_to_add=> {len(item_to_add)} and no of items in set4=> {len(set4)}\")    "
   ]
  },
  {
   "cell_type": "code",
   "execution_count": 10,
   "metadata": {},
   "outputs": [
    {
     "name": "stdout",
     "output_type": "stream",
     "text": [
      "set4 before update operation -{1, 3, 4, 5, 6, 7, 8, 9}\n",
      "set4 after update operation- {1, 3, 4, 5, 6, 7, 8, 9, 10, 11, 12, 14, 15, 16, 19, 21, 22}\n"
     ]
    }
   ],
   "source": [
    "##update operation\n",
    "tmp_lst = [10,11,12,14,15,16,9,10,19,21,22]\n",
    "print(f\"set4 before update operation -{set4}\")\n",
    "set4.update(tmp_lst)\n",
    "print(f\"set4 after update operation- {set4}\")"
   ]
  },
  {
   "cell_type": "markdown",
   "metadata": {},
   "source": [
    "## Set Operations"
   ]
  },
  {
   "cell_type": "code",
   "execution_count": 11,
   "metadata": {},
   "outputs": [],
   "source": [
    "set_a = {1,2,3,4,5,6,7}\n",
    "set_b={5,4,12,14,15,14,16}"
   ]
  },
  {
   "cell_type": "markdown",
   "metadata": {},
   "source": [
    "### Union"
   ]
  },
  {
   "cell_type": "code",
   "execution_count": 16,
   "metadata": {},
   "outputs": [
    {
     "name": "stdout",
     "output_type": "stream",
     "text": [
      "Output of union operation of set_a and set_b=> {1, 2, 3, 4, 5, 6, 7, 12, 14, 15, 16}\n"
     ]
    }
   ],
   "source": [
    "##union operation\n",
    "print(f\"Output of union operation of set_a and set_b=> {set_a | set_b}\")"
   ]
  },
  {
   "cell_type": "markdown",
   "metadata": {},
   "source": [
    "### Intersection"
   ]
  },
  {
   "cell_type": "code",
   "execution_count": 15,
   "metadata": {},
   "outputs": [
    {
     "name": "stdout",
     "output_type": "stream",
     "text": [
      "Print set_a=> {1, 2, 3, 4, 5, 6, 7}\n",
      "Print set_b=> {4, 5, 12, 14, 15, 16}\n",
      "Output of intersection of set_a and set_b=> {4, 5}\n"
     ]
    }
   ],
   "source": [
    "##intersection operation\n",
    "print(f\"Print set_a=> {set_a}\")\n",
    "print(f\"Print set_b=> {set_b}\")\n",
    "print(f\"Output of intersection of set_a and set_b=> {set_a & set_b}\")"
   ]
  },
  {
   "cell_type": "markdown",
   "metadata": {},
   "source": [
    "### Difference"
   ]
  },
  {
   "cell_type": "code",
   "execution_count": 23,
   "metadata": {},
   "outputs": [
    {
     "name": "stdout",
     "output_type": "stream",
     "text": [
      "set_x => {2, 3, 4, 5, 6, 7, 8, 9, 10, 11, 17}\n",
      "Difference of (set_x - set_y)=> {3, 4, 5, 6, 7, 8, 9}\n",
      "set_y => {2, 10, 11, 12, 13, 14, 15, 16, 17}\n",
      "Difference of (set_y - set_x) => {12, 13, 14, 15, 16}\n"
     ]
    }
   ],
   "source": [
    "set_x = {2,3,4,5,6,7,8,9,10,11,17}\n",
    "set_y ={10,11,12,13,14,15,16,17,2}\n",
    "print(f\"set_x => {set_x}\")\n",
    "print(f\"Difference of (set_x - set_y)=> {set_x - set_y}\")\n",
    "print(f\"set_y => {set_y}\")\n",
    "print(f\"Difference of (set_y - set_x) => {set_y - set_x}\")"
   ]
  },
  {
   "cell_type": "markdown",
   "metadata": {},
   "source": [
    "### Comparision"
   ]
  },
  {
   "cell_type": "code",
   "execution_count": 25,
   "metadata": {},
   "outputs": [
    {
     "name": "stdout",
     "output_type": "stream",
     "text": [
      "(set_x == set_y) = False\n",
      "(set_y==set_x) = False\n"
     ]
    }
   ],
   "source": [
    "print(f\"(set_x == set_y) = {set_x==set_y}\")\n",
    "print(f\"(set_y==set_x) = {set_y==set_x}\")"
   ]
  },
  {
   "cell_type": "code",
   "execution_count": 30,
   "metadata": {},
   "outputs": [
    {
     "name": "stdout",
     "output_type": "stream",
     "text": [
      "({1, 2, 3, 4, 5, 6} == {1, 2, 3, 4, 5, 6}) => True\n",
      "({1, 2, 3, 4, 5, 6} == {1, 2, 3, 4, 5, 6}) => True\n"
     ]
    }
   ],
   "source": [
    "set_m = {1,2,3,4,5,6}\n",
    "set_n = {1,2,3,4,5,6}\n",
    "print(f\"({set_m} == {set_n}) => {set_m==set_n}\")\n",
    "print(f\"({set_n} == {set_m}) => {set_n==set_m}\")"
   ]
  },
  {
   "cell_type": "code",
   "execution_count": null,
   "metadata": {},
   "outputs": [],
   "source": []
  }
 ],
 "metadata": {
  "kernelspec": {
   "display_name": "Python 3.6.3 (conda)",
   "language": "python",
   "name": "python3"
  },
  "language_info": {
   "codemirror_mode": {
    "name": "ipython",
    "version": 3
   },
   "file_extension": ".py",
   "mimetype": "text/x-python",
   "name": "python",
   "nbconvert_exporter": "python",
   "pygments_lexer": "ipython3",
   "version": "3.6.3"
  },
  "orig_nbformat": 4,
  "vscode": {
   "interpreter": {
    "hash": "fb29721641b3528dde4c4eddbdea07da74d43a465b04c562f0f4186bd1e40193"
   }
  }
 },
 "nbformat": 4,
 "nbformat_minor": 2
}
