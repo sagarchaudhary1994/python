{
 "cells": [
  {
   "cell_type": "markdown",
   "metadata": {},
   "source": [
    "## Python While Loop"
   ]
  },
  {
   "cell_type": "code",
   "execution_count": 5,
   "metadata": {},
   "outputs": [
    {
     "name": "stdout",
     "output_type": "stream",
     "text": [
      "Table of 9 is => [9, 18, 27, 36, 45, 54, 63, 72, 81, 90]\n"
     ]
    }
   ],
   "source": [
    "# write a program to print the table of 9\n",
    "counter = 1\n",
    "num =9\n",
    "\n",
    "lst_table=[]\n",
    "while counter<=10:\n",
    "    lst_table.append(counter*num)\n",
    "    counter+=1 ##counter needs to be updated, other it will be a infinite loop\n",
    "\n",
    "print(f\"Table of 9 is => {lst_table}\")"
   ]
  },
  {
   "cell_type": "code",
   "execution_count": 4,
   "metadata": {},
   "outputs": [],
   "source": [
    "#Example of infinte loop, uncomment the code to test\n",
    "# while True:\n",
    "#     print(\"Infinite Loop!\")"
   ]
  },
  {
   "cell_type": "code",
   "execution_count": null,
   "metadata": {},
   "outputs": [],
   "source": []
  }
 ],
 "metadata": {
  "kernelspec": {
   "display_name": "Python 3.6.3 (conda)",
   "language": "python",
   "name": "python3"
  },
  "language_info": {
   "codemirror_mode": {
    "name": "ipython",
    "version": 3
   },
   "file_extension": ".py",
   "mimetype": "text/x-python",
   "name": "python",
   "nbconvert_exporter": "python",
   "pygments_lexer": "ipython3",
   "version": "3.6.3"
  },
  "orig_nbformat": 4,
  "vscode": {
   "interpreter": {
    "hash": "fb29721641b3528dde4c4eddbdea07da74d43a465b04c562f0f4186bd1e40193"
   }
  }
 },
 "nbformat": 4,
 "nbformat_minor": 2
}
