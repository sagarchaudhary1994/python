{
 "cells": [
  {
   "cell_type": "markdown",
   "metadata": {},
   "source": [
    "## Functions in Python\n",
    "* May or may not accept parameters\n",
    "* May or may not return output\n",
    "* In-built functions like sum(), len(), print() etc."
   ]
  },
  {
   "cell_type": "code",
   "execution_count": 2,
   "metadata": {},
   "outputs": [
    {
     "name": "stdout",
     "output_type": "stream",
     "text": [
      "Print maximum number in this list => 5\n",
      "Print sum of numbers in the list => 15\n",
      "Print min number from the list => 1\n"
     ]
    }
   ],
   "source": [
    "## Example of in-built functions\n",
    "lst=[1,2,3,4,5]\n",
    "print(f\"Print maximum number in this list => {max(lst)}\")\n",
    "print(f\"Print sum of numbers in the list => {sum(lst)}\")\n",
    "print(f\"Print min number from the list => {min(lst)}\")"
   ]
  },
  {
   "cell_type": "code",
   "execution_count": 3,
   "metadata": {},
   "outputs": [
    {
     "name": "stdout",
     "output_type": "stream",
     "text": [
      "Print result from welcome_message() => None\n"
     ]
    }
   ],
   "source": [
    "## Example of function which does not accept parameter and does not return \n",
    "def welcome_message():\n",
    "    action =\"This methos does not return anything\"\n",
    "\n",
    "## call the method\n",
    "result = welcome_message()\n",
    "print(f\"Print result from welcome_message() => {result}\")"
   ]
  },
  {
   "cell_type": "code",
   "execution_count": 5,
   "metadata": {},
   "outputs": [
    {
     "name": "stdout",
     "output_type": "stream",
     "text": [
      "Print the output from return_out method => Return from method 'return_action'\n"
     ]
    }
   ],
   "source": [
    "## Example of function which does not accept any parameter but does return\n",
    "def return_out():\n",
    "    action=\"Return from method 'return_action'\"\n",
    "    return action\n",
    "\n",
    "##call method\n",
    "res1 = return_out()\n",
    "print(f\"Print the output from return_out method => {res1}\")"
   ]
  },
  {
   "cell_type": "code",
   "execution_count": 6,
   "metadata": {},
   "outputs": [
    {
     "name": "stdout",
     "output_type": "stream",
     "text": [
      "Output from method call => 5.5\n"
     ]
    }
   ],
   "source": [
    "## Example of method that accepts parameter and return output\n",
    "def calc_mean(num_lst = []):\n",
    "    num_mean = sum(num_lst)/len(num_lst)\n",
    "    return num_mean\n",
    "\n",
    "## call method\n",
    "num_lst = [1,2,3,4,5,6,7,8,9,10]\n",
    "res2 = calc_mean(num_lst=num_lst)\n",
    "print(f\"Output from method call => {res2}\")"
   ]
  },
  {
   "cell_type": "code",
   "execution_count": 10,
   "metadata": {},
   "outputs": [
    {
     "name": "stdout",
     "output_type": "stream",
     "text": [
      "Factorial of 5 is => 120\n",
      "Factorial of 6 is => 720\n"
     ]
    }
   ],
   "source": [
    "## Write a function to calculate the factorial of numbers\n",
    "def factorial(n):\n",
    "    if n==0 or n==1:\n",
    "        return 1\n",
    "    result =1\n",
    "    for num in range(1,n+1):\n",
    "        result*=num\n",
    "    \n",
    "    return result\n",
    "\n",
    "## call method\n",
    "print(f\"Factorial of 5 is => {factorial(5)}\")\n",
    "print(f\"Factorial of 6 is => {factorial(6)}\")"
   ]
  },
  {
   "cell_type": "code",
   "execution_count": 13,
   "metadata": {},
   "outputs": [
    {
     "name": "stdout",
     "output_type": "stream",
     "text": [
      "Square of 2 => 4 and cube of 2 => 8\n"
     ]
    }
   ],
   "source": [
    "##return multiple values from function\n",
    "\n",
    "def cal_square_cube(n):\n",
    "    sq = n**2\n",
    "    cube =n**3\n",
    "    return sq,cube\n",
    "\n",
    "## method call\n",
    "sq_2, cube_2 =cal_square_cube(2)\n",
    "print(f\"Square of 2 => {sq_2} and cube of 2 => {cube_2}\")"
   ]
  },
  {
   "cell_type": "code",
   "execution_count": 17,
   "metadata": {},
   "outputs": [
    {
     "name": "stdout",
     "output_type": "stream",
     "text": [
      "Method output for a=2 => 6\n",
      "Method output for a=3, b=4 => 8\n"
     ]
    }
   ],
   "source": [
    "## Optional Argument\n",
    "## Note: Optional argument should be defined after required parameters\n",
    "\n",
    "def multiply(a, b=3):\n",
    "    return a*b\n",
    "\n",
    "# method call\n",
    "print(f\"Method output for a=2 => {multiply(2)}\")\n",
    "print(f\"Method output for a=3, b=4 => {multiply(2,4)}\")"
   ]
  },
  {
   "cell_type": "code",
   "execution_count": 19,
   "metadata": {},
   "outputs": [
    {
     "name": "stdout",
     "output_type": "stream",
     "text": [
      "Hi\n",
      "2\n",
      "There\n"
     ]
    }
   ],
   "source": [
    "## Non-key value paired\n",
    "def example_nonkeyvalue(*args):\n",
    "    for arg in args:\n",
    "        print(arg)\n",
    "\n",
    "## method call\n",
    "example_nonkeyvalue(\"Hi\",2,\"There\")"
   ]
  },
  {
   "cell_type": "code",
   "execution_count": 22,
   "metadata": {},
   "outputs": [
    {
     "name": "stdout",
     "output_type": "stream",
     "text": [
      "name : John\n",
      "age : 23\n",
      "skill : Python\n"
     ]
    }
   ],
   "source": [
    "## Key-value pairs\n",
    "def example_keyvaluepair(**kwargs):\n",
    "    for k, v in kwargs.items():\n",
    "        print(f\"{k} : {v}\")\n",
    "\n",
    "## method call\n",
    "example_keyvaluepair(name=\"John\",age=\"23\",skill=\"Python\")"
   ]
  },
  {
   "cell_type": "code",
   "execution_count": null,
   "metadata": {},
   "outputs": [],
   "source": []
  }
 ],
 "metadata": {
  "kernelspec": {
   "display_name": "Python 3.6.3 (conda)",
   "language": "python",
   "name": "python3"
  },
  "language_info": {
   "codemirror_mode": {
    "name": "ipython",
    "version": 3
   },
   "file_extension": ".py",
   "mimetype": "text/x-python",
   "name": "python",
   "nbconvert_exporter": "python",
   "pygments_lexer": "ipython3",
   "version": "3.6.3"
  },
  "orig_nbformat": 4,
  "vscode": {
   "interpreter": {
    "hash": "fb29721641b3528dde4c4eddbdea07da74d43a465b04c562f0f4186bd1e40193"
   }
  }
 },
 "nbformat": 4,
 "nbformat_minor": 2
}
