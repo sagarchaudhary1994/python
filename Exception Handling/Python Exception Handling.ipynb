{
 "cells": [
  {
   "cell_type": "markdown",
   "metadata": {},
   "source": [
    "## Exception Handling"
   ]
  },
  {
   "cell_type": "markdown",
   "metadata": {},
   "source": [
    "### try and except block"
   ]
  },
  {
   "cell_type": "code",
   "execution_count": 8,
   "metadata": {},
   "outputs": [
    {
     "name": "stdout",
     "output_type": "stream",
     "text": [
      "Zero division error encountered\n",
      "Index out-of-range error encounterd\n",
      "Key not found error\n"
     ]
    }
   ],
   "source": [
    "def handleException(data):\n",
    "    try:\n",
    "        if type(data) == int:\n",
    "            return data/(data-1)\n",
    "        elif type(data) ==list:\n",
    "            return data[len(data)+1]\n",
    "        elif type(data) == dict:\n",
    "            return data[\"key\"]\n",
    "    except ZeroDivisionError:\n",
    "        print(\"Zero division error encountered\")\n",
    "    except IndexError:\n",
    "        print(\"Index out-of-range error encounterd\")\n",
    "    except KeyError:\n",
    "        print(\"Key not found error\")\n",
    "    except Exception as ex:\n",
    "        print(f\"Error occurred- {ex}\")\n",
    "    \n",
    "## method call\n",
    "#. Replicate Zero-Division error\n",
    "handleException(1)\n",
    "#2.Replicate Index Error\n",
    "handleException([1,2,3])\n",
    "#3. Replicate Key-Error\n",
    "handleException({\"name\":\"John\"})"
   ]
  },
  {
   "cell_type": "markdown",
   "metadata": {},
   "source": [
    "### try, except and else block"
   ]
  },
  {
   "cell_type": "code",
   "execution_count": 11,
   "metadata": {},
   "outputs": [
    {
     "name": "stdout",
     "output_type": "stream",
     "text": [
      "Error encountered- division by zero\n"
     ]
    }
   ],
   "source": [
    "## else block is executed once try is successfully executed\n",
    "a=5\n",
    "try:\n",
    "    result = a/0\n",
    "except Exception as ex:\n",
    "    print(f\"Error encountered- {ex}\")\n",
    "else:\n",
    "    print(f\"operation completed\")\n",
    "    print(result)"
   ]
  },
  {
   "cell_type": "markdown",
   "metadata": {},
   "source": [
    "### try, except and finally"
   ]
  },
  {
   "cell_type": "code",
   "execution_count": 15,
   "metadata": {},
   "outputs": [
    {
     "name": "stdout",
     "output_type": "stream",
     "text": [
      "Error encountered- division by zero\n",
      "Finally block. Operation completed!\n"
     ]
    }
   ],
   "source": [
    "## finally is executed irrespective of fail or success of try lock execution\n",
    "a=5\n",
    "try:\n",
    "    result = a/0\n",
    "except Exception as ex:\n",
    "    print(f\"Error encountered- {ex}\")\n",
    "finally:\n",
    "    print(f\"Finally block. Operation completed!\")"
   ]
  },
  {
   "cell_type": "code",
   "execution_count": null,
   "metadata": {},
   "outputs": [],
   "source": []
  }
 ],
 "metadata": {
  "kernelspec": {
   "display_name": "Python 3.6.3 (conda)",
   "language": "python",
   "name": "python3"
  },
  "language_info": {
   "codemirror_mode": {
    "name": "ipython",
    "version": 3
   },
   "file_extension": ".py",
   "mimetype": "text/x-python",
   "name": "python",
   "nbconvert_exporter": "python",
   "pygments_lexer": "ipython3",
   "version": "3.6.3"
  },
  "orig_nbformat": 4,
  "vscode": {
   "interpreter": {
    "hash": "fb29721641b3528dde4c4eddbdea07da74d43a465b04c562f0f4186bd1e40193"
   }
  }
 },
 "nbformat": 4,
 "nbformat_minor": 2
}
