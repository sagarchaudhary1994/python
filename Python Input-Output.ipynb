{
 "cells": [
  {
   "cell_type": "markdown",
   "metadata": {},
   "source": [
    "## Python Input Output"
   ]
  },
  {
   "cell_type": "code",
   "execution_count": 5,
   "metadata": {},
   "outputs": [
    {
     "name": "stdout",
     "output_type": "stream",
     "text": [
      "Type of raw input of marks_maths (89) => <class 'str'>\n",
      "Type of raw input marks_physics (90) => <class 'str'>\n",
      "Type of raw input marks_chemistry (78) =><class 'str'>\n"
     ]
    }
   ],
   "source": [
    "## take input in python\n",
    "marks_maths =input(\"Please enter marks in maths\")\n",
    "print(f\"Type of raw input of marks_maths ({marks_maths}) => {type(marks_maths)}\")\n",
    "marks_physics = input(\"Please enter marks in physics\")\n",
    "print(f\"Type of raw input marks_physics ({marks_physics}) => {type(marks_physics)}\")\n",
    "marks_chemistry= input(\"Please enter marks in chemistry\")\n",
    "print(f\"Type of raw input marks_chemistry ({marks_chemistry}) =>{type(marks_chemistry)}\")"
   ]
  },
  {
   "cell_type": "code",
   "execution_count": 6,
   "metadata": {},
   "outputs": [
    {
     "name": "stdout",
     "output_type": "stream",
     "text": [
      "Average marks obtained => 85.66666666666667\n"
     ]
    }
   ],
   "source": [
    "## type the marks to int\n",
    "maths_float = float(marks_maths)\n",
    "physics_float = float(marks_physics)\n",
    "chemistry_float = float(marks_chemistry)\n",
    "\n",
    "## calculate the average of marks\n",
    "marks_average = (maths_float + physics_float +chemistry_float)/3\n",
    "print(f\"Average marks obtained => {marks_average}\")"
   ]
  },
  {
   "cell_type": "code",
   "execution_count": null,
   "metadata": {},
   "outputs": [],
   "source": []
  }
 ],
 "metadata": {
  "kernelspec": {
   "display_name": "Python 3.6.3 (conda)",
   "language": "python",
   "name": "python3"
  },
  "language_info": {
   "codemirror_mode": {
    "name": "ipython",
    "version": 3
   },
   "file_extension": ".py",
   "mimetype": "text/x-python",
   "name": "python",
   "nbconvert_exporter": "python",
   "pygments_lexer": "ipython3",
   "version": "3.6.3"
  },
  "orig_nbformat": 4,
  "vscode": {
   "interpreter": {
    "hash": "fb29721641b3528dde4c4eddbdea07da74d43a465b04c562f0f4186bd1e40193"
   }
  }
 },
 "nbformat": 4,
 "nbformat_minor": 2
}
