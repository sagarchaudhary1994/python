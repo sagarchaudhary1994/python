{
 "cells": [
  {
   "cell_type": "markdown",
   "metadata": {},
   "source": [
    "## Variables in Python"
   ]
  },
  {
   "cell_type": "code",
   "execution_count": 1,
   "metadata": {},
   "outputs": [],
   "source": [
    "## Declare and assign variables in Python\n",
    "int_var =10\n",
    "float_var=10.0\n",
    "string_var =\"String Variable\"\n",
    "bool_var = True"
   ]
  },
  {
   "cell_type": "code",
   "execution_count": 2,
   "metadata": {},
   "outputs": [
    {
     "name": "stdout",
     "output_type": "stream",
     "text": [
      "Hello to Python world!!!\n"
     ]
    }
   ],
   "source": [
    "##Function to print in Python\n",
    "print(\"Hello to Python world!!!\")"
   ]
  },
  {
   "cell_type": "code",
   "execution_count": 4,
   "metadata": {},
   "outputs": [
    {
     "name": "stdout",
     "output_type": "stream",
     "text": [
      "Value of int var => 10\n",
      "Value of float variable => 10.0\n",
      "Value of string variable => String Variable\n",
      "Value of bool variable => True\n"
     ]
    }
   ],
   "source": [
    "##Print variable values declared\n",
    "print(f\"Value of int var => {int_var}\")\n",
    "print(f\"Value of float variable => {float_var}\")\n",
    "print(f\"Value of string variable => {string_var}\")\n",
    "print(f\"Value of bool variable => {bool_var}\")"
   ]
  },
  {
   "cell_type": "code",
   "execution_count": 5,
   "metadata": {},
   "outputs": [
    {
     "name": "stdout",
     "output_type": "stream",
     "text": [
      "Data type of int_var => <class 'int'>\n",
      "Data type of float_var => <class 'float'>\n",
      "Data type of string variable =><class 'str'>\n",
      "Data type of bool-var => <class 'bool'>\n"
     ]
    }
   ],
   "source": [
    "## Check the data type of variable\n",
    "print(f\"Data type of int_var => {type(int_var)}\")\n",
    "print(f\"Data type of float_var => {type(float_var)}\")\n",
    "print(f\"Data type of string variable =>{type(string_var)}\")\n",
    "print(f\"Data type of bool-var => {type(bool_var)}\")"
   ]
  },
  {
   "cell_type": "code",
   "execution_count": 25,
   "metadata": {},
   "outputs": [
    {
     "name": "stdout",
     "output_type": "stream",
     "text": [
      "Type of variable int_var (10) before casting => <class 'int'>\n",
      "Type of variable int_var (10.0) after casting (int to float) => <class 'float'>\n",
      "Type of variable int_var (10) after casting (float to int)=> <class 'int'>\n",
      "Type of variable int_var (10) after casting (int to string) => <class 'str'>\n",
      "Type of variable int_var (10) after casting (string to int) => <class 'int'>\n",
      "\n",
      "-----\n",
      "\n",
      "Type of variable b (true) before casting => <class 'str'>\n",
      "Type of variable b (True) after casting (string to bool) => <class 'bool'>\n",
      "Type of variable b (1) after casting (bool to int) => <class 'int'>\n"
     ]
    }
   ],
   "source": [
    "## Type casting\n",
    "int_var = 10\n",
    "print(f\"Type of variable int_var ({int_var}) before casting => {type(int_var)}\")\n",
    "int_var= float(int_var)\n",
    "print(f\"Type of variable int_var ({int_var}) after casting (int to float) => {type(int_var)}\")\n",
    "int_var = int(int_var)\n",
    "print(f\"Type of variable int_var ({int_var}) after casting (float to int)=> {type(int_var)}\")\n",
    "int_var = str(int_var)\n",
    "print(f\"Type of variable int_var ({int_var}) after casting (int to string) => {type(int_var)}\")\n",
    "int_var = int(int_var)\n",
    "print(f\"Type of variable int_var ({int_var}) after casting (string to int) => {type(int_var)}\")\n",
    "\n",
    "print(\"\\n-----\\n\")\n",
    "b=\"true\"\n",
    "print(f\"Type of variable b ({b}) before casting => {type(b)}\")\n",
    "b=bool(b)\n",
    "print(f\"Type of variable b ({b}) after casting (string to bool) => {type(b)}\")\n",
    "b=int(b)\n",
    "print(f\"Type of variable b ({b}) after casting (bool to int) => {type(b)}\")"
   ]
  },
  {
   "cell_type": "code",
   "execution_count": 31,
   "metadata": {},
   "outputs": [
    {
     "name": "stdout",
     "output_type": "stream",
     "text": [
      "Value of final_val => 140\n"
     ]
    }
   ],
   "source": [
    "numeric_int = 123\n",
    "numeric_string =\"17\"\n",
    "#final_var =numeric_string + numeric_int ## this does not work\n",
    "final_var = numeric_int + int(numeric_string)\n",
    "print(f\"Value of final_val => {final_var}\")"
   ]
  },
  {
   "cell_type": "code",
   "execution_count": null,
   "metadata": {},
   "outputs": [],
   "source": []
  }
 ],
 "metadata": {
  "kernelspec": {
   "display_name": "Python 3.6.3 (conda)",
   "language": "python",
   "name": "python3"
  },
  "language_info": {
   "codemirror_mode": {
    "name": "ipython",
    "version": 3
   },
   "file_extension": ".py",
   "mimetype": "text/x-python",
   "name": "python",
   "nbconvert_exporter": "python",
   "pygments_lexer": "ipython3",
   "version": "3.6.3"
  },
  "orig_nbformat": 4,
  "vscode": {
   "interpreter": {
    "hash": "fb29721641b3528dde4c4eddbdea07da74d43a465b04c562f0f4186bd1e40193"
   }
  }
 },
 "nbformat": 4,
 "nbformat_minor": 2
}
